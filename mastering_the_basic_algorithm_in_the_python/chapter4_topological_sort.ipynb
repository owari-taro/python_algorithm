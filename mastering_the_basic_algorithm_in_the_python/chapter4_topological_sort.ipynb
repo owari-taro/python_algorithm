{
 "cells": [
  {
   "cell_type": "code",
   "execution_count": 5,
   "metadata": {},
   "outputs": [
    {
     "name": "stdout",
     "output_type": "stream",
     "text": [
      "ghoge\n"
     ]
    }
   ],
   "source": [
    "from typing import Set,List\n",
    "def naive_topsort(G:List,S:Set=None):\n",
    "    if S is None:\n",
    "        S=set(G)\n",
    "    if len(S)==1:\n",
    "        return list(S)\n",
    "    v=S.pop()\n",
    "    seq=naive_topsort(G,S)\n",
    "    min_i=0\n",
    "    for i,u in enumerate(seq):\n",
    "        if v in G[u]:\n",
    "            min_i=i+1\n",
    "    seq.insert(min_i,v)\n",
    "    return seq\n",
    "\n",
    "G = {'a': set('bf'), 'b': set('cdf'),\n",
    "     'c': set('d'), 'd': set('ef'), 'e': set('f'), 'f': set()}\n",
    "print(\"ghoge\")"
   ]
  },
  {
   "cell_type": "code",
   "execution_count": 6,
   "metadata": {},
   "outputs": [
    {
     "name": "stdout",
     "output_type": "stream",
     "text": [
      "['a', 'b', 'c', 'd', 'e', 'f']\n"
     ]
    }
   ],
   "source": [
    "print(naive_topsort(G))"
   ]
  },
  {
   "cell_type": "code",
   "execution_count": null,
   "metadata": {},
   "outputs": [],
   "source": [
    "def topsort(G:Dict):\n",
    "    count=dict((u,0)for u in G)\n",
    "    for u in G:\n",
    "        for v in G[u]:\n",
    "            #count the number of nodes pointing to node V\n",
    "            count[v]+=1\n",
    "    Q=[u for u in G if count[u]==0]\n",
    "    S=[]\n",
    "    while Q:\n",
    "        u=Q.pop()\n",
    "        S.append(u)\n",
    "        for v in G[u]:\n",
    "            count[v]\n",
    "            \n",
    "            \n",
    "            "
   ]
  }
 ],
 "metadata": {
  "kernelspec": {
   "display_name": "Python 3",
   "language": "python",
   "name": "python3"
  },
  "language_info": {
   "codemirror_mode": {
    "name": "ipython",
    "version": 3
   },
   "file_extension": ".py",
   "mimetype": "text/x-python",
   "name": "python",
   "nbconvert_exporter": "python",
   "pygments_lexer": "ipython3",
   "version": "3.9.1"
  }
 },
 "nbformat": 4,
 "nbformat_minor": 4
}
