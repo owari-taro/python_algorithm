{
 "cells": [
  {
   "cell_type": "code",
   "execution_count": 7,
   "metadata": {},
   "outputs": [
    {
     "data": {
      "text/plain": [
       "{0}"
      ]
     },
     "execution_count": 7,
     "metadata": {},
     "output_type": "execute_result"
    }
   ],
   "source": [
    "from typing import List,Set\n",
    "\n",
    "def is_valid(A:List):\n",
    "    valid=set(range(A))\n",
    "    for ele in A:\n",
    "        if ele not in valid:\n",
    "            raise ValueError()\n",
    "    return True\n",
    "\n",
    "def naive_max_perm(all:List[int],rest:Set[int]=None):\n",
    "    if rest is None:\n",
    "        rest=set(range(len(all)))\n",
    "        \n",
    "    if len(rest)==1:\n",
    "        return rest\n",
    "    #designated elements\n",
    "    designated=set(all[i] for i in rest)\n",
    "    #needless seats\n",
    "    needless=rest-designated\n",
    "    if needless:\n",
    "        rest.remove(needless.pop())\n",
    "        return naive_max_perm(all,rest)\n",
    "    #needless is None means algorithm is finished\n",
    "    return rest\n",
    "    \n",
    "naive_max_perm([1,1,2])\n",
    "naive_max_perm([0])"
   ]
  },
  {
   "cell_type": "code",
   "execution_count": null,
   "metadata": {},
   "outputs": [],
   "source": []
  }
 ],
 "metadata": {
  "kernelspec": {
   "display_name": "Python 3",
   "language": "python",
   "name": "python3"
  },
  "language_info": {
   "codemirror_mode": {
    "name": "ipython",
    "version": 3
   },
   "file_extension": ".py",
   "mimetype": "text/x-python",
   "name": "python",
   "nbconvert_exporter": "python",
   "pygments_lexer": "ipython3",
   "version": "3.9.1"
  }
 },
 "nbformat": 4,
 "nbformat_minor": 4
}
