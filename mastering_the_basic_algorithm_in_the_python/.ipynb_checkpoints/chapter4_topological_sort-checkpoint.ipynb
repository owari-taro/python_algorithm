{
 "cells": [
  {
   "cell_type": "code",
   "execution_count": 5,
   "metadata": {},
   "outputs": [
    {
     "name": "stdout",
     "output_type": "stream",
     "text": [
      "ghoge\n"
     ]
    }
   ],
   "source": [
    "from typing import Set,List\n",
    "def naive_topsort(G:List,S:Set=None):\n",
    "    if S is None:\n",
    "        S=set(G)\n",
    "    if len(S)==1:\n",
    "        return list(S)\n",
    "    v=S.pop()\n",
    "    seq=naive_topsort(G,S)\n",
    "    min_i=0\n",
    "    for i,u in enumerate(seq):\n",
    "        if v in G[u]:\n",
    "            min_i=i+1\n",
    "    seq.insert(min_i,v)\n",
    "    return seq\n",
    "\n",
    "G = {'a': set('bf'), 'b': set('cdf'),\n",
    "     'c': set('d'), 'd': set('ef'), 'e': set('f'), 'f': set()}\n",
    "print(\"ghoge\")"
   ]
  },
  {
   "cell_type": "code",
   "execution_count": 6,
   "metadata": {},
   "outputs": [
    {
     "name": "stdout",
     "output_type": "stream",
     "text": [
      "['a', 'b', 'c', 'd', 'e', 'f']\n"
     ]
    }
   ],
   "source": [
    "print(naive_topsort(G))"
   ]
  },
  {
   "cell_type": "code",
   "execution_count": 2,
   "metadata": {},
   "outputs": [],
   "source": [
    "from typing import Dict\n",
    "def topsort(G:Dict):\n",
    "    count=dict((u,0)for u in G)\n",
    "    for u in G:\n",
    "        for v in G[u]:\n",
    "            count[v]+=1\n",
    "    Q=[u for u in G if count[u]==0]\n",
    "    S=[]\n",
    "    while Q:\n",
    "        u=Q.pop()\n",
    "        S.append(u)\n",
    "        for v in G[u]:\n",
    "            count[v]-=1\n",
    "            if count[v]==0:\n",
    "                Q.append(v)\n",
    "    return S\n",
    "\n",
    "\n",
    "    \n"
   ]
  },
  {
   "cell_type": "code",
   "execution_count": 3,
   "metadata": {},
   "outputs": [
    {
     "ename": "SyntaxError",
     "evalue": "invalid syntax (<ipython-input-3-7bb73956b835>, line 4)",
     "output_type": "error",
     "traceback": [
      "\u001b[1;36m  File \u001b[1;32m\"<ipython-input-3-7bb73956b835>\"\u001b[1;36m, line \u001b[1;32m4\u001b[0m\n\u001b[1;33m    j=i:\u001b[0m\n\u001b[1;37m       ^\u001b[0m\n\u001b[1;31mSyntaxError\u001b[0m\u001b[1;31m:\u001b[0m invalid syntax\n"
     ]
    }
   ],
   "source": [
    "from typing import List\n",
    "def ins_sort(seq:List)->None:\n",
    "    for i in range(1,len(seq)):\n",
    "        j=i\n",
    "        while j>0 and seq[j-1]>seq[j]:\n",
    "            seq[j-1],seq[j]=seq[j],seq[j-1]\n",
    "            j-=1"
   ]
  },
  {
   "cell_type": "code",
   "execution_count": null,
   "metadata": {},
   "outputs": [],
   "source": [
    "def sol_sort(seq:List)->None:\n",
    "    for i in range(len(seq)-1,0,-1):\n",
    "        max_index=i\n",
    "        for j in range(i):\n",
    "            if seq[j]>max_index:\n",
    "                max_index=j\n",
    "        seq[i],seq[max_index]=seq[max_index],seq[i]\n",
    "    "
   ]
  }
 ],
 "metadata": {
  "kernelspec": {
   "display_name": "Python 3",
   "language": "python",
   "name": "python3"
  },
  "language_info": {
   "codemirror_mode": {
    "name": "ipython",
    "version": 3
   },
   "file_extension": ".py",
   "mimetype": "text/x-python",
   "name": "python",
   "nbconvert_exporter": "python",
   "pygments_lexer": "ipython3",
   "version": "3.9.1"
  }
 },
 "nbformat": 4,
 "nbformat_minor": 4
}
