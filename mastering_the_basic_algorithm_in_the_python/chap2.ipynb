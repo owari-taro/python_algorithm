{
 "cells": [
  {
   "cell_type": "code",
   "execution_count": 32,
   "metadata": {},
   "outputs": [
    {
     "name": "stdout",
     "output_type": "stream",
     "text": [
      "[1, inf] [4, 7, inf]\n",
      "1\n",
      "2\n",
      "3\n",
      "[2, 1, 4, 7, 100]\n"
     ]
    },
    {
     "data": {
      "text/plain": [
       "[2, 1, 4, 7, 100]"
      ]
     },
     "execution_count": 32,
     "metadata": {},
     "output_type": "execute_result"
    }
   ],
   "source": [
    "import math\n",
    "def merge(A,st,mid,ed):\n",
    "    #p,q,r is index\n",
    "    L,R=[],[]\n",
    "    for i in range(st,mid+1):\n",
    "        L.append(A[i])\n",
    "    for j in range(mid+1,ed+1):\n",
    "        R.append(A[j])\n",
    "    R.append(math.inf)\n",
    "    L.append(math.inf)\n",
    "    print(R,L)\n",
    "    r,l=0,0\n",
    "    for i in range(st,ed+1):\n",
    "        print(i)\n",
    "        if R[r]<L[l]:\n",
    "            A[i]=R[r]\n",
    "            r+=1\n",
    "        else:\n",
    "            A[i]=L[l]\n",
    "            l+=1\n",
    "    print(A)    \n",
    "    return A\n",
    "merge([2,4,7,1,100],1,2,3)"
   ]
  }
 ],
 "metadata": {
  "kernelspec": {
   "display_name": "Python 3",
   "language": "python",
   "name": "python3"
  },
  "language_info": {
   "codemirror_mode": {
    "name": "ipython",
    "version": 3
   },
   "file_extension": ".py",
   "mimetype": "text/x-python",
   "name": "python",
   "nbconvert_exporter": "python",
   "pygments_lexer": "ipython3",
   "version": "3.9.1"
  }
 },
 "nbformat": 4,
 "nbformat_minor": 4
}
