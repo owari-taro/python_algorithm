{
 "cells": [
  {
   "cell_type": "code",
   "execution_count": 2,
   "metadata": {},
   "outputs": [
    {
     "name": "stdout",
     "output_type": "stream",
     "text": [
      "100\n"
     ]
    }
   ],
   "source": [
    "def trav(seq,i=0):\n",
    "    if i==len(seq):\n",
    "        print(i)\n",
    "        return\n",
    "    trav(seq,i+1)\n",
    "trav(range(100))"
   ]
  },
  {
   "cell_type": "code",
   "execution_count": null,
   "metadata": {},
   "outputs": [],
   "source": [
    "trav(range(10000))"
   ]
  },
  {
   "cell_type": "code",
   "execution_count": null,
   "metadata": {},
   "outputs": [],
   "source": [
    "def ins_sort(seq,i):\n",
    "    if i==0:\n",
    "        return\n",
    "    ins_sort(seq,i-1)\n",
    "    j=i\n",
    "    while j>0 and seq[j-1]>seq[j]:\n",
    "        seq[j-1],seq[j]=seq[j],seq[j-1]\n",
    "        j-=1\n",
    "    "
   ]
  }
 ],
 "metadata": {
  "kernelspec": {
   "display_name": "Python 3",
   "language": "python",
   "name": "python3"
  },
  "language_info": {
   "codemirror_mode": {
    "name": "ipython",
    "version": 3
   },
   "file_extension": ".py",
   "mimetype": "text/x-python",
   "name": "python",
   "nbconvert_exporter": "python",
   "pygments_lexer": "ipython3",
   "version": "3.9.1"
  }
 },
 "nbformat": 4,
 "nbformat_minor": 4
}
