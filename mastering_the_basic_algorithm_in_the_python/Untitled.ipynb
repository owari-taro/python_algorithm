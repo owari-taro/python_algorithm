{
 "cells": [
  {
   "cell_type": "code",
   "execution_count": 3,
   "metadata": {},
   "outputs": [
    {
     "name": "stdout",
     "output_type": "stream",
     "text": [
      "[{1, 2}, {0, 4, 5}, {3, 4, 5}]\n"
     ]
    }
   ],
   "source": [
    "a,b,c,d,e,f=range(6)\n",
    "N=[\n",
    "    {c,b},\n",
    "    {a,f,e},\n",
    "    {d,e,f}\n",
    "]\n",
    "print(N)\n"
   ]
  },
  {
   "cell_type": "code",
   "execution_count": 4,
   "metadata": {},
   "outputs": [],
   "source": [
    "T=[[\"a\",\"b\"],[\"c\"],[\"d\",[\"e\",\"f\"]]]"
   ]
  },
  {
   "cell_type": "code",
   "execution_count": 7,
   "metadata": {},
   "outputs": [
    {
     "name": "stdout",
     "output_type": "stream",
     "text": [
      "c\n"
     ]
    }
   ],
   "source": [
    "class Tree:\n",
    "    def __init__(self,left,right):\n",
    "        self.left=left\n",
    "        self.right=right\n",
    "\n",
    "tree=Tree(Tree(\"a\",\"n\"),Tree(\"c\",\"da\"))\n",
    "print(tree.right.left)\n"
   ]
  },
  {
   "cell_type": "code",
   "execution_count": 16,
   "metadata": {},
   "outputs": [
    {
     "name": "stdout",
     "output_type": "stream",
     "text": [
      "c\n",
      "a\n",
      "b\n"
     ]
    }
   ],
   "source": [
    "class Tree:\n",
    "    def __init__(self,kids,next=None):\n",
    "        self.kids=self.val=kids\n",
    "        self.next=next\n",
    "    def __str__(self):\n",
    "        return self.val\n",
    "\n",
    "t=Tree(\n",
    "    Tree(\"a\",\n",
    "            Tree(\"b\",\n",
    "                     Tree(\"c\",\n",
    "                              Tree(\"d\")\n",
    "                         )\n",
    "                )\n",
    "        )\n",
    ")\n",
    "print(t.kids.next.next.val)\n",
    "print(t.kids.val)\n",
    "print(t.kids.next.val)\n"
   ]
  },
  {
   "cell_type": "code",
   "execution_count": 21,
   "metadata": {},
   "outputs": [
    {
     "name": "stdout",
     "output_type": "stream",
     "text": [
      "<class 'int'>\n",
      "585\n"
     ]
    }
   ],
   "source": [
    "from random import randrange\n",
    "l=randrange(1000)\n",
    "print(type(l))\n",
    "print(l)"
   ]
  },
  {
   "cell_type": "code",
   "execution_count": 24,
   "metadata": {},
   "outputs": [
    {
     "name": "stdout",
     "output_type": "stream",
     "text": [
      "True\n",
      "True\n"
     ]
    }
   ],
   "source": [
    "L=[randrange(10000) for i in range(100000)]\n",
    "print(42 in L)\n",
    "S=set(L)\n",
    "print(42 in S)"
   ]
  },
  {
   "cell_type": "code",
   "execution_count": 3,
   "metadata": {},
   "outputs": [
    {
     "data": {
      "text/plain": [
       "False"
      ]
     },
     "execution_count": 3,
     "metadata": {},
     "output_type": "execute_result"
    }
   ],
   "source": [
    "sum(0.1 for i in range(10))==1.0"
   ]
  },
  {
   "cell_type": "code",
   "execution_count": 7,
   "metadata": {},
   "outputs": [
    {
     "data": {
      "text/plain": [
       "True"
      ]
     },
     "execution_count": 7,
     "metadata": {},
     "output_type": "execute_result"
    }
   ],
   "source": [
    "def almost_equal(x,y,places=7):\n",
    "    return round(abs(x-y),places)==0\n",
    "\n",
    "_sum=sum(0.1 for i in range(10))\n",
    "almost_equal(_sum,1)\n",
    "1==1.0\n"
   ]
  },
  {
   "cell_type": "code",
   "execution_count": 10,
   "metadata": {},
   "outputs": [
    {
     "name": "stdout",
     "output_type": "stream",
     "text": [
      "5.341455107554793e-06\n",
      "5.3414570026237696e-06\n"
     ]
    }
   ],
   "source": [
    "from math import sqrt\n",
    "x=8762348761.13\n",
    "print(sqrt(x+1)-sqrt(x))\n",
    "print(1.0/(sqrt(x+1)+sqrt(x)))\n",
    "\n"
   ]
  },
  {
   "cell_type": "code",
   "execution_count": 14,
   "metadata": {},
   "outputs": [
    {
     "name": "stdout",
     "output_type": "stream",
     "text": [
      "[[0, 0, 0, 0, 0, 0, 0, 0, 0, 0], [0, 0, 0, 0, 0, 0, 0, 0, 0, 0], [0, 0, 0, 0, 0, 0, 0, 0, 0, 0], [0, 0, 0, 0, 0, 0, 0, 0, 0, 0], [0, 0, 0, 0, 0, 0, 0, 0, 0, 0], [0, 0, 0, 0, 0, 0, 0, 0, 0, 0], [0, 0, 0, 0, 0, 0, 0, 0, 0, 0], [0, 0, 0, 0, 0, 0, 0, 0, 0, 0], [0, 0, 0, 0, 0, 0, 0, 0, 0, 0], [0, 0, 0, 0, 0, 0, 0, 0, 0, 0]]\n"
     ]
    },
    {
     "data": {
      "text/plain": [
       "[[0, 123, 0, 0, 0, 0, 0, 0, 0, 0],\n",
       " [0, 123, 0, 0, 0, 0, 0, 0, 0, 0],\n",
       " [0, 123, 0, 0, 0, 0, 0, 0, 0, 0],\n",
       " [0, 123, 0, 0, 0, 0, 0, 0, 0, 0],\n",
       " [0, 123, 0, 0, 0, 0, 0, 0, 0, 0],\n",
       " [0, 123, 0, 0, 0, 0, 0, 0, 0, 0],\n",
       " [0, 123, 0, 0, 0, 0, 0, 0, 0, 0],\n",
       " [0, 123, 0, 0, 0, 0, 0, 0, 0, 0],\n",
       " [0, 123, 0, 0, 0, 0, 0, 0, 0, 0],\n",
       " [0, 123, 0, 0, 0, 0, 0, 0, 0, 0]]"
      ]
     },
     "execution_count": 14,
     "metadata": {},
     "output_type": "execute_result"
    }
   ],
   "source": [
    "a=[[0]*10]*10\n",
    "\n",
    "print(a)\n",
    "a[2][1]=123\n",
    "a"
   ]
  }
 ],
 "metadata": {
  "kernelspec": {
   "display_name": "Python 3",
   "language": "python",
   "name": "python3"
  },
  "language_info": {
   "codemirror_mode": {
    "name": "ipython",
    "version": 3
   },
   "file_extension": ".py",
   "mimetype": "text/x-python",
   "name": "python",
   "nbconvert_exporter": "python",
   "pygments_lexer": "ipython3",
   "version": "3.9.1"
  }
 },
 "nbformat": 4,
 "nbformat_minor": 4
}
